{
 "cells": [
  {
   "cell_type": "code",
   "execution_count": 17,
   "metadata": {},
   "outputs": [
    {
     "name": "stdout",
     "output_type": "stream",
     "text": [
      "['Nueva frase']\n"
     ]
    }
   ],
   "source": [
    "try:\n",
    "    file = \"./frases.txt\"\n",
    "    \n",
    "    opened_file = open(file, 'r') ## w -> wrie, a -> append\n",
    "    #first_line = opened_file.readline()\n",
    "    #print(first_line)\n",
    "    lines = opened_file.readlines()\n",
    "    print(lines)\n",
    "\n",
    "except Exception as error:\n",
    "    print(f\"Error: {error}\")\n",
    "finally:\n",
    "    opened_file.close()"
   ]
  },
  {
   "cell_type": "code",
   "execution_count": 21,
   "metadata": {},
   "outputs": [
    {
     "name": "stdout",
     "output_type": "stream",
     "text": [
      "13\n"
     ]
    }
   ],
   "source": [
    "try:\n",
    "    file = \"./frases.txt\"\n",
    "    \n",
    "    opened_file = open(file, 'w') ## w -> wrie, a -> append\n",
    "    #first_line = opened_file.readline()\n",
    "    #print(first_line)\n",
    "    writed_lines = opened_file.write(\"buenas tardes\")\n",
    "    print(writed_lines)\n",
    "except Exception as error:\n",
    "    print(f\"Error: {error}\")\n",
    "finally:\n",
    "    opened_file.close()"
   ]
  },
  {
   "cell_type": "code",
   "execution_count": null,
   "metadata": {},
   "outputs": [],
   "source": []
  },
  {
   "cell_type": "code",
   "execution_count": null,
   "metadata": {},
   "outputs": [],
   "source": []
  },
  {
   "cell_type": "code",
   "execution_count": null,
   "metadata": {},
   "outputs": [],
   "source": []
  }
 ],
 "metadata": {
  "kernelspec": {
   "display_name": "Python 3",
   "language": "python",
   "name": "python3"
  },
  "language_info": {
   "codemirror_mode": {
    "name": "ipython",
    "version": 3
   },
   "file_extension": ".py",
   "mimetype": "text/x-python",
   "name": "python",
   "nbconvert_exporter": "python",
   "pygments_lexer": "ipython3",
   "version": "3.7.6"
  }
 },
 "nbformat": 4,
 "nbformat_minor": 4
}
