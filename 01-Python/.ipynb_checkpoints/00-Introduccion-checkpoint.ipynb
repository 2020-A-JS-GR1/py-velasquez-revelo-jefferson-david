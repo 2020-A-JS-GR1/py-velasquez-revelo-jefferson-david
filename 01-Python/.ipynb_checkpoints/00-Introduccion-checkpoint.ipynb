{
 "cells": [
  {
   "cell_type": "markdown",
   "metadata": {},
   "source": [
    "# Título 1\n",
    "## Título 2\n",
    "\n",
    "![alt text](https://github.com/adam-p/markdown-here/raw/master/src/common/images/icon48.png \"Logo Title Text 1\")"
   ]
  },
  {
   "cell_type": "code",
   "execution_count": 2,
   "metadata": {},
   "outputs": [
    {
     "name": "stdout",
     "output_type": "stream",
     "text": [
      "Hola Mundo!\n"
     ]
    }
   ],
   "source": [
    "print(\"Hola Mundo!\")"
   ]
  },
  {
   "cell_type": "code",
   "execution_count": 5,
   "metadata": {},
   "outputs": [
    {
     "name": "stdout",
     "output_type": "stream",
     "text": [
      "<class 'int'>\n",
      "<class 'float'>\n",
      "<class 'str'>\n",
      "<class 'str'>\n",
      "<class 'bool'>\n",
      "<class 'bool'>\n",
      "<class 'NoneType'>\n",
      "<class 'str'>\n"
     ]
    }
   ],
   "source": [
    "# No tipado!\n",
    "# Variables primitivas\n",
    "entero = 4\n",
    "decimales = 1.1\n",
    "nombre = \"Jeff\"\n",
    "segundo_nombre = \"Otro nombre\" #no camel case\n",
    "casado = False\n",
    "profesor = True\n",
    "hijos = None\n",
    "apellido = 'Velasquez'\n",
    "print(type(entero))\n",
    "print(type(decimales))\n",
    "print(type(nombre))\n",
    "print(type(segundo_nombre))\n",
    "print(type(casado))\n",
    "print(type(profesor))\n",
    "print(type(hijos))\n",
    "print(type(apellido))\n",
    "print(type('nan')) #Not A Number"
   ]
  },
  {
   "cell_type": "code",
   "execution_count": 7,
   "metadata": {},
   "outputs": [
    {
     "name": "stdout",
     "output_type": "stream",
     "text": [
      "\n",
      "El programa \"Coursera para la Escuela Politécnica Nacional\" ofrece alrededor de 4.000 cursos y especializaciones dirigidos por profesores e instructores de prestigiosas universidades y empresas multinacionales. Es una gran oportunidad para fortalecer el desarrollo académico y profesional de los participantes.\n",
      "\n",
      "Usted se ha registrado en el Coursera para la Escuela Politécnica Nacional de Coursera. Aproveche los cursos, especializaciones y proyectos guiados (de corta duración) que le ofrece este programa.\n",
      "\n",
      "Saludos,\n",
      "\n",
      "\n"
     ]
    }
   ],
   "source": [
    "cadena_de_texto = \"\"\"\n",
    "El programa \"Coursera para la Escuela Politécnica Nacional\" ofrece alrededor de 4.000 cursos y especializaciones dirigidos por profesores e instructores de prestigiosas universidades y empresas multinacionales. Es una gran oportunidad para fortalecer el desarrollo académico y profesional de los participantes.\n",
    "\n",
    "Usted se ha registrado en el Coursera para la Escuela Politécnica Nacional de Coursera. Aproveche los cursos, especializaciones y proyectos guiados (de corta duración) que le ofrece este programa.\n",
    "\n",
    "Saludos,\n",
    "\n",
    "\"\"\"\n",
    "print(cadena_de_texto)\n"
   ]
  },
  {
   "cell_type": "code",
   "execution_count": 3,
   "metadata": {},
   "outputs": [
    {
     "name": "stdout",
     "output_type": "stream",
     "text": [
      "4\n",
      "Jeff\n"
     ]
    }
   ],
   "source": [
    "entero = 4\n",
    "decimales = 1.1\n",
    "nombre = \"Jeff\"\n",
    "segundo_nombre = \"Otro nombre\" #no camel case\n",
    "casado = False\n",
    "profesor = True\n",
    "hijos = None\n",
    "apellido = 'Velasquez'\n",
    "print(entero)\n",
    "entero = decimales\n",
    "entero = hijos\n",
    "entero = casado\n",
    "entero = nombre\n",
    "print(entero)"
   ]
  },
  {
   "cell_type": "code",
   "execution_count": 5,
   "metadata": {},
   "outputs": [
    {
     "name": "stdout",
     "output_type": "stream",
     "text": [
      "Truty\n",
      "Falsy\n",
      "falsy\n",
      "Truty\n",
      "falsy\n",
      "Truty\n",
      "Truty\n",
      "Truty\n",
      "falsy\n",
      "Truty\n",
      "falsy\n",
      "Truty\n",
      "falsy\n",
      "Truty\n"
     ]
    }
   ],
   "source": [
    "#Truty y Falsy\n",
    "\n",
    "tuplas = (1,2,3) #Arreglo que no se pueden modificar\n",
    "listas = [4,5,6] #Arreglos que se pueden modificar\n",
    "diccionario = {\n",
    "    \"nombre\": \"Jeff\"\n",
    "}\n",
    "\n",
    "if('Jeff'): #truty\n",
    "    print('Truty')\n",
    "else:\n",
    "    print('Falsy')\n",
    "\n",
    "if(''):\n",
    "    print('Truty')\n",
    "else:\n",
    "    print('Falsy')\n",
    "    \n",
    "variable = None\n",
    "\n",
    "if(variable):\n",
    "    print(\"Truty\")\n",
    "else:\n",
    "    print(\"falsy\")\n",
    "    \n",
    "if(1):\n",
    "    print(\"Truty\")\n",
    "else:\n",
    "    print(\"falsy\")\n",
    "\n",
    "if(0):\n",
    "    print(\"Truty\")\n",
    "else:\n",
    "    print(\"falsy\")\n",
    "\n",
    "if(-1):\n",
    "    print(\"Truty\")\n",
    "else:\n",
    "    print(\"falsy\")\n",
    "\n",
    "if(-1.2):\n",
    "    print(\"Truty\")\n",
    "else:\n",
    "    print(\"falsy\")\n",
    "    \n",
    "if(1.1):\n",
    "    print(\"Truty\")\n",
    "else:\n",
    "    print(\"falsy\")\n",
    "    \n",
    "\n",
    "if(()):\n",
    "    print(\"Truty\")\n",
    "else:\n",
    "    print(\"falsy\")\n",
    "    \n",
    "if((1,2,3)):\n",
    "    print(\"Truty\")\n",
    "else:\n",
    "    print(\"falsy\")\n",
    "    \n",
    "\n",
    "if([]):\n",
    "    print(\"Truty\")\n",
    "else:\n",
    "    print(\"falsy\")\n",
    "    \n",
    "if([1,2,3]):\n",
    "    print(\"Truty\")\n",
    "else:\n",
    "    print(\"falsy\")\n",
    "    \n",
    "    \n",
    "if({}):\n",
    "    print(\"Truty\")\n",
    "else:\n",
    "    print(\"falsy\")\n",
    "   \n",
    "if({\"nombre\": \"Jeff\"}):\n",
    "    print(\"Truty\")\n",
    "else:\n",
    "    print(\"falsy\")"
   ]
  },
  {
   "cell_type": "code",
   "execution_count": 6,
   "metadata": {},
   "outputs": [],
   "source": [
    "arreglo = [1, 2, 3, 4, 5, 6, 7, 8, 9, 10]"
   ]
  },
  {
   "cell_type": "code",
   "execution_count": 23,
   "metadata": {},
   "outputs": [
    {
     "data": {
      "text/plain": [
       "(5, 6, 7, 8, 9)"
      ]
     },
     "execution_count": 23,
     "metadata": {},
     "output_type": "execute_result"
    }
   ],
   "source": [
    "arreglo[0:5] #[0,3[\n",
    "arreglo[2:] #Hasta el final\n",
    "arreglo[:4] #Desde el principio\n",
    "arreglo[-1] #lee desde el final\n",
    "arreglo[-10] #índice negativo empieza desde el final\n",
    "arreglo[3:-2]\n",
    "arreglo[-8:8]\n",
    "arreglo[-4:-1]\n",
    "arreglo[-7:]\n",
    "arreglo[:-3]\n",
    "arreglo[:]\n",
    "\n",
    "arregloTupla = (1,2,3,4,5,6,7,8,9,10)\n",
    "arregloTupla[4:9]"
   ]
  },
  {
   "cell_type": "code",
   "execution_count": 26,
   "metadata": {},
   "outputs": [
    {
     "data": {
      "text/plain": [
       "'Jeff'"
      ]
     },
     "execution_count": 26,
     "metadata": {},
     "output_type": "execute_result"
    }
   ],
   "source": [
    "diccionario = {\n",
    "    \"nombre\": \"Jeff\",\n",
    "    \"apellido\": \"Velasquez\",\n",
    "    \"otroCampo\": \"otro\"\n",
    "}\n",
    "\n",
    "diccionario[\"nombre\"]"
   ]
  },
  {
   "cell_type": "code",
   "execution_count": 29,
   "metadata": {},
   "outputs": [
    {
     "data": {
      "text/plain": [
       "False"
      ]
     },
     "execution_count": 29,
     "metadata": {},
     "output_type": "execute_result"
    }
   ],
   "source": [
    "\"12\" in arreglo"
   ]
  },
  {
   "cell_type": "code",
   "execution_count": 28,
   "metadata": {},
   "outputs": [
    {
     "name": "stdout",
     "output_type": "stream",
     "text": [
      "<class 'bool'>\n"
     ]
    }
   ],
   "source": [
    "print(type(12 in arreglo))"
   ]
  },
  {
   "cell_type": "code",
   "execution_count": 30,
   "metadata": {},
   "outputs": [
    {
     "data": {
      "text/plain": [
       "True"
      ]
     },
     "execution_count": 30,
     "metadata": {},
     "output_type": "execute_result"
    }
   ],
   "source": [
    "9 in arreglo"
   ]
  },
  {
   "cell_type": "code",
   "execution_count": 31,
   "metadata": {},
   "outputs": [
    {
     "data": {
      "text/plain": [
       "10"
      ]
     },
     "execution_count": 31,
     "metadata": {},
     "output_type": "execute_result"
    }
   ],
   "source": [
    "len(arreglo)\n",
    "len(arregloTupla)\n",
    "len(diccionario)"
   ]
  },
  {
   "cell_type": "code",
   "execution_count": 34,
   "metadata": {},
   "outputs": [
    {
     "data": {
      "text/plain": [
       "False"
      ]
     },
     "execution_count": 34,
     "metadata": {},
     "output_type": "execute_result"
    }
   ],
   "source": [
    "\"nombre\" in diccionario #solo valida las llaves\n",
    "\"Jeff\" in diccionario"
   ]
  },
  {
   "cell_type": "code",
   "execution_count": 36,
   "metadata": {},
   "outputs": [
    {
     "data": {
      "text/plain": [
       "[1, 2, 3, 4, 5, 6, 7, 8, 9, 11]"
      ]
     },
     "execution_count": 36,
     "metadata": {},
     "output_type": "execute_result"
    }
   ],
   "source": [
    "#arregloTupla[0] = 2 #tuplas elementos solo de lectura\n",
    "arreglo[9] = 11\n",
    "arreglo"
   ]
  },
  {
   "cell_type": "code",
   "execution_count": 38,
   "metadata": {},
   "outputs": [],
   "source": [
    "#metodos arreglos\n",
    "#arreglo.pop\n",
    "#arreglo.append\n",
    "#arreglo.insert\n",
    "#entre otros"
   ]
  },
  {
   "cell_type": "code",
   "execution_count": 46,
   "metadata": {},
   "outputs": [
    {
     "name": "stdout",
     "output_type": "stream",
     "text": [
      "1\n",
      "2\n",
      "3\n",
      "4\n",
      "5\n",
      "6\n",
      "7\n",
      "8\n",
      "9\n",
      "11\n",
      "nombre\n",
      "apellido\n",
      "otroCampo\n"
     ]
    }
   ],
   "source": [
    "for numeroLista in arreglo:\n",
    "    print(numeroLista)\n",
    "    \n",
    "for key in diccionario:\n",
    "    print(key)"
   ]
  },
  {
   "cell_type": "code",
   "execution_count": 50,
   "metadata": {},
   "outputs": [
    {
     "name": "stdout",
     "output_type": "stream",
     "text": [
      "0\n",
      "1\n",
      "2\n",
      "3\n",
      "4\n",
      "5\n",
      "6\n",
      "7\n",
      "8\n",
      "9\n"
     ]
    }
   ],
   "source": [
    "contador = 0\n",
    "while contador < 10:\n",
    "    print(contador)\n",
    "    contador+=1"
   ]
  },
  {
   "cell_type": "code",
   "execution_count": 53,
   "metadata": {},
   "outputs": [
    {
     "data": {
      "text/plain": [
       "12.2"
      ]
     },
     "execution_count": 53,
     "metadata": {},
     "output_type": "execute_result"
    }
   ],
   "source": [
    "jeff = {\n",
    "    True:\"Jeff\",\n",
    "    False: \"otro\",\n",
    "    1: 12.2,\n",
    "    1.2:34,\n",
    "    'edad': 23,\n",
    "    \"mascotas\": [{\"nombre\":\"Pelusa\"}],\n",
    "    None: None\n",
    "}\n",
    "\n",
    "jeff[1]"
   ]
  },
  {
   "cell_type": "code",
   "execution_count": 56,
   "metadata": {},
   "outputs": [
    {
     "data": {
      "text/plain": [
       "{True: 12.2,\n",
       " False: 'otro',\n",
       " 1.2: 34,\n",
       " 'edad': 25,\n",
       " 'mascotas': [{'nombre': 'Panda'}],\n",
       " None: None,\n",
       " 'apellido': 'velasquez'}"
      ]
     },
     "execution_count": 56,
     "metadata": {},
     "output_type": "execute_result"
    }
   ],
   "source": [
    "jeff['edad'] = 25\n",
    "jeff['apellido'] = \"velasquez\"\n",
    "jeff[\"mascotas\"][0][\"nombre\"] = \"Panda\"\n",
    "jeff"
   ]
  },
  {
   "cell_type": "code",
   "execution_count": 57,
   "metadata": {},
   "outputs": [
    {
     "data": {
      "text/plain": [
       "dict_values([12.2, 'otro', 34, 25, [{'nombre': 'Panda'}], None, 'velasquez'])"
      ]
     },
     "execution_count": 57,
     "metadata": {},
     "output_type": "execute_result"
    }
   ],
   "source": [
    "jeff.keys()\n",
    "jeff.values()"
   ]
  },
  {
   "cell_type": "code",
   "execution_count": 58,
   "metadata": {},
   "outputs": [
    {
     "data": {
      "text/plain": [
       "dict_keys"
      ]
     },
     "execution_count": 58,
     "metadata": {},
     "output_type": "execute_result"
    }
   ],
   "source": [
    "type(jeff.keys())"
   ]
  },
  {
   "cell_type": "code",
   "execution_count": 59,
   "metadata": {},
   "outputs": [
    {
     "data": {
      "text/plain": [
       "dict_values"
      ]
     },
     "execution_count": 59,
     "metadata": {},
     "output_type": "execute_result"
    }
   ],
   "source": [
    "type(jeff.values())"
   ]
  },
  {
   "cell_type": "code",
   "execution_count": 63,
   "metadata": {},
   "outputs": [
    {
     "name": "stdout",
     "output_type": "stream",
     "text": [
      "True\n",
      "False\n",
      "1.2\n",
      "edad\n",
      "mascotas\n",
      "None\n",
      "apellido\n",
      "12.2\n",
      "otro\n",
      "34\n",
      "25\n",
      "[{'nombre': 'Panda'}]\n",
      "None\n",
      "velasquez\n"
     ]
    }
   ],
   "source": [
    "for llave in jeff.keys():\n",
    "    print(llave)\n",
    "\n",
    "for valor in jeff.values():\n",
    "    print(valor)\n",
    "    "
   ]
  },
  {
   "cell_type": "code",
   "execution_count": 64,
   "metadata": {},
   "outputs": [
    {
     "data": {
      "text/plain": [
       "False"
      ]
     },
     "execution_count": 64,
     "metadata": {},
     "output_type": "execute_result"
    }
   ],
   "source": [
    "1==1 or 2==2\n",
    "1!=1 and 2!=2"
   ]
  },
  {
   "cell_type": "code",
   "execution_count": null,
   "metadata": {},
   "outputs": [],
   "source": []
  },
  {
   "cell_type": "code",
   "execution_count": null,
   "metadata": {},
   "outputs": [],
   "source": []
  },
  {
   "cell_type": "code",
   "execution_count": null,
   "metadata": {},
   "outputs": [],
   "source": []
  },
  {
   "cell_type": "code",
   "execution_count": null,
   "metadata": {},
   "outputs": [],
   "source": []
  },
  {
   "cell_type": "code",
   "execution_count": null,
   "metadata": {},
   "outputs": [],
   "source": []
  }
 ],
 "metadata": {
  "kernelspec": {
   "display_name": "Python 3",
   "language": "python",
   "name": "python3"
  },
  "language_info": {
   "codemirror_mode": {
    "name": "ipython",
    "version": 3
   },
   "file_extension": ".py",
   "mimetype": "text/x-python",
   "name": "python",
   "nbconvert_exporter": "python",
   "pygments_lexer": "ipython3",
   "version": "3.7.6"
  }
 },
 "nbformat": 4,
 "nbformat_minor": 4
}
