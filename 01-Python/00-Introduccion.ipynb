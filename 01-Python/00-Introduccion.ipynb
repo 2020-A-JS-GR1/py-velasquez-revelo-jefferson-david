{
 "cells": [
  {
   "cell_type": "markdown",
   "metadata": {},
   "source": [
    "# Título 1\n",
    "## Título 2\n",
    "\n",
    "![alt text](https://github.com/adam-p/markdown-here/raw/master/src/common/images/icon48.png \"Logo Title Text 1\")"
   ]
  },
  {
   "cell_type": "code",
   "execution_count": 2,
   "metadata": {},
   "outputs": [
    {
     "name": "stdout",
     "output_type": "stream",
     "text": [
      "Hola Mundo!\n"
     ]
    }
   ],
   "source": [
    "print(\"Hola Mundo!\")"
   ]
  },
  {
   "cell_type": "code",
   "execution_count": 5,
   "metadata": {},
   "outputs": [
    {
     "name": "stdout",
     "output_type": "stream",
     "text": [
      "<class 'int'>\n",
      "<class 'float'>\n",
      "<class 'str'>\n",
      "<class 'str'>\n",
      "<class 'bool'>\n",
      "<class 'bool'>\n",
      "<class 'NoneType'>\n",
      "<class 'str'>\n"
     ]
    }
   ],
   "source": [
    "# No tipado!\n",
    "# Variables primitivas\n",
    "entero = 4\n",
    "decimales = 1.1\n",
    "nombre = \"Jeff\"\n",
    "segundo_nombre = \"Otro nombre\" #no camel case\n",
    "casado = False\n",
    "profesor = True\n",
    "hijos = None\n",
    "apellido = 'Velasquez'\n",
    "print(type(entero))\n",
    "print(type(decimales))\n",
    "print(type(nombre))\n",
    "print(type(segundo_nombre))\n",
    "print(type(casado))\n",
    "print(type(profesor))\n",
    "print(type(hijos))\n",
    "print(type(apellido))\n",
    "print(type('nan')) #Not A Number"
   ]
  },
  {
   "cell_type": "code",
   "execution_count": 7,
   "metadata": {},
   "outputs": [
    {
     "name": "stdout",
     "output_type": "stream",
     "text": [
      "\n",
      "El programa \"Coursera para la Escuela Politécnica Nacional\" ofrece alrededor de 4.000 cursos y especializaciones dirigidos por profesores e instructores de prestigiosas universidades y empresas multinacionales. Es una gran oportunidad para fortalecer el desarrollo académico y profesional de los participantes.\n",
      "\n",
      "Usted se ha registrado en el Coursera para la Escuela Politécnica Nacional de Coursera. Aproveche los cursos, especializaciones y proyectos guiados (de corta duración) que le ofrece este programa.\n",
      "\n",
      "Saludos,\n",
      "\n",
      "\n"
     ]
    }
   ],
   "source": [
    "cadena_de_texto = \"\"\"\n",
    "El programa \"Coursera para la Escuela Politécnica Nacional\" ofrece alrededor de 4.000 cursos y especializaciones dirigidos por profesores e instructores de prestigiosas universidades y empresas multinacionales. Es una gran oportunidad para fortalecer el desarrollo académico y profesional de los participantes.\n",
    "\n",
    "Usted se ha registrado en el Coursera para la Escuela Politécnica Nacional de Coursera. Aproveche los cursos, especializaciones y proyectos guiados (de corta duración) que le ofrece este programa.\n",
    "\n",
    "Saludos,\n",
    "\n",
    "\"\"\"\n",
    "print(cadena_de_texto)\n"
   ]
  },
  {
   "cell_type": "code",
   "execution_count": 3,
   "metadata": {},
   "outputs": [
    {
     "name": "stdout",
     "output_type": "stream",
     "text": [
      "4\n",
      "Jeff\n"
     ]
    }
   ],
   "source": [
    "entero = 4\n",
    "decimales = 1.1\n",
    "nombre = \"Jeff\"\n",
    "segundo_nombre = \"Otro nombre\" #no camel case\n",
    "casado = False\n",
    "profesor = True\n",
    "hijos = None\n",
    "apellido = 'Velasquez'\n",
    "print(entero)\n",
    "entero = decimales\n",
    "entero = hijos\n",
    "entero = casado\n",
    "entero = nombre\n",
    "print(entero)"
   ]
  },
  {
   "cell_type": "code",
   "execution_count": 5,
   "metadata": {},
   "outputs": [
    {
     "name": "stdout",
     "output_type": "stream",
     "text": [
      "Truty\n",
      "Falsy\n"
     ]
    }
   ],
   "source": [
    "#Truty y Falsy\n",
    "\n",
    "tuplas = (1,2,3) #Arreglo que no se pueden modificar\n",
    "listas = [4,5,6] #Arreglos que se pueden modificar\n",
    "diccionario = {\n",
    "    \"nombre\": \"Jeff\"\n",
    "}\n",
    "\n",
    "if('Jeff'): #truty\n",
    "    print('Truty')\n",
    "else:\n",
    "    print('Falsy')\n",
    "\n",
    "if(''):\n",
    "    print('Truty')\n",
    "else:\n",
    "    print('Falsy')"
   ]
  },
  {
   "cell_type": "code",
   "execution_count": null,
   "metadata": {},
   "outputs": [],
   "source": []
  }
 ],
 "metadata": {
  "kernelspec": {
   "display_name": "Python 3",
   "language": "python",
   "name": "python3"
  },
  "language_info": {
   "codemirror_mode": {
    "name": "ipython",
    "version": 3
   },
   "file_extension": ".py",
   "mimetype": "text/x-python",
   "name": "python",
   "nbconvert_exporter": "python",
   "pygments_lexer": "ipython3",
   "version": "3.7.6"
  }
 },
 "nbformat": 4,
 "nbformat_minor": 4
}
