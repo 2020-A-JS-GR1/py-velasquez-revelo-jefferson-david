{
 "cells": [
  {
   "cell_type": "code",
   "execution_count": 1,
   "metadata": {},
   "outputs": [
    {
     "name": "stdout",
     "output_type": "stream",
     "text": [
      "hola mundo!\n"
     ]
    },
    {
     "data": {
      "text/plain": [
       "NoneType"
      ]
     },
     "execution_count": 1,
     "metadata": {},
     "output_type": "execute_result"
    }
   ],
   "source": [
    "# Funciones\n",
    "def hola_mundo():\n",
    "    print('hola mundo!')\n",
    "    \n",
    "type(hola_mundo())"
   ]
  },
  {
   "cell_type": "code",
   "execution_count": 4,
   "metadata": {},
   "outputs": [
    {
     "name": "stdout",
     "output_type": "stream",
     "text": [
      "la suma de 5 y 6 es: 11\n"
     ]
    }
   ],
   "source": [
    "def sumar_dos_numeros(numero_uno, numero_dos): #parametros requeridos\n",
    "    return numero_uno+numero_dos\n",
    "\n",
    "total_suma = sumar_dos_numeros(5,6)\n",
    "print(f\"la suma de 5 y 6 es: {total_suma}\")"
   ]
  },
  {
   "cell_type": "code",
   "execution_count": 6,
   "metadata": {},
   "outputs": [
    {
     "name": "stdout",
     "output_type": "stream",
     "text": [
      "Univresidad: EPN\n",
      "Univresidad: ESPE\n"
     ]
    }
   ],
   "source": [
    "def imprimir_universidad(nombre = \"EPN\"):\n",
    "    print(f\"Univresidad: {nombre}\")\n",
    "\n",
    "imprimir_universidad()\n",
    "imprimir_universidad(\"ESPE\")\n",
    "          "
   ]
  },
  {
   "cell_type": "code",
   "execution_count": 7,
   "metadata": {},
   "outputs": [
    {
     "name": "stdout",
     "output_type": "stream",
     "text": [
      "Color: Blanco\n",
      "placa: ABC-1234\n",
      "Horse Power: 3000\n",
      "anio: 1900\n"
     ]
    }
   ],
   "source": [
    "# Regla 1: PARAMETROS REQUERIDOS\n",
    "#       2: PARAMETROS OPCIONALES\n",
    "\n",
    "def imprimir_carro(color, placa, hp, anio = 1900):\n",
    "    print(f\"Color: {color}\")\n",
    "    print(f\"placa: {placa}\")\n",
    "    print(f\"Horse Power: {hp}\")\n",
    "    print(f\"anio: {anio}\")\n",
    "\n",
    "imprimir_carro(\"Blanco\", \"ABC-1234\", 3000)\n",
    "    "
   ]
  },
  {
   "cell_type": "code",
   "execution_count": null,
   "metadata": {},
   "outputs": [],
   "source": []
  },
  {
   "cell_type": "code",
   "execution_count": 10,
   "metadata": {},
   "outputs": [
    {
     "data": {
      "text/plain": [
       "7684"
      ]
     },
     "execution_count": 10,
     "metadata": {},
     "output_type": "execute_result"
    }
   ],
   "source": [
    "def sumar_numeros(primer_numero, *numeros): #parametros infinitos\n",
    "    suma = primer_numero\n",
    "    for numero in numeros:\n",
    "        suma = suma+numero\n",
    "    return suma\n",
    "\n",
    "sumar_numeros(1,54,7623,2,4)"
   ]
  },
  {
   "cell_type": "code",
   "execution_count": 12,
   "metadata": {},
   "outputs": [
    {
     "name": "stdout",
     "output_type": "stream",
     "text": [
      "{'saludo': 'hola', 'mensaje': 'mundo'}\n",
      "<class 'dict'>\n"
     ]
    }
   ],
   "source": [
    "def establecer_configuracion(**kwargs): #Key word arguments #parametros nombrados\n",
    "    print(kwargs)\n",
    "    print(type(kwargs))\n",
    "\n",
    "establecer_configuracion(saludo = \"hola\", mensaje = \"mundo\")"
   ]
  },
  {
   "cell_type": "code",
   "execution_count": 13,
   "metadata": {},
   "outputs": [],
   "source": [
    "#Reglas\n",
    "def ejemplo(requerido_uno,\n",
    "           requerido_dos,\n",
    "           opcional_uno = 1,\n",
    "           opcional_dos = 2,\n",
    "           *infinitos,\n",
    "           **kwargs):\n",
    "    print(\"m\")"
   ]
  },
  {
   "cell_type": "code",
   "execution_count": null,
   "metadata": {},
   "outputs": [],
   "source": []
  }
 ],
 "metadata": {
  "kernelspec": {
   "display_name": "Python 3",
   "language": "python",
   "name": "python3"
  },
  "language_info": {
   "codemirror_mode": {
    "name": "ipython",
    "version": 3
   },
   "file_extension": ".py",
   "mimetype": "text/x-python",
   "name": "python",
   "nbconvert_exporter": "python",
   "pygments_lexer": "ipython3",
   "version": "3.7.6"
  }
 },
 "nbformat": 4,
 "nbformat_minor": 4
}
